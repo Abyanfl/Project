{
 "cells": [
  {
   "cell_type": "markdown",
   "metadata": {},
   "source": [
    "Model Inference for Loan Approval Prediction\n",
    "\n",
    "This notebook performs model inference using the trained XGBoost model (`xgb_pipeline_model.pkl`). The objective is to predict loan approval status (`Approved` or `Rejected`) for new, raw data representing loan applicants. The model was trained to assist banks in making informed loan approval decisions by evaluating features such as income, assets, CIBIL score, and employment status. The inference data is provided in its raw format, and the model's pipeline handles all preprocessing (e.g., outlier capping, scaling, encoding).\n",
    "\n",
    "Dataset Context: The original dataset (`loan_approval_dataset.csv`) contains 11 features (after dropping `loan_id`): `no_of_dependents`, `education`, `self_employed`, `income_annum`, `loan_amount`, `loan_term`, `cibil_score`, `residential_assets_value`, `commercial_assets_value`, `luxury_assets_value`, and `bank_asset_value`. The target is `loan_status` (`Approved` or `Rejected`). For inference, we use a small sample of new data mimicking this structure.\n",
    "\n",
    "Objective: To test the trained model on new, unseen data and interpret the predictions in the context of loan approval, ensuring the model generalizes well to real-world scenarios."
   ]
  },
  {
   "cell_type": "markdown",
   "metadata": {},
   "source": [
    "## 1. Import Libraries\n",
    "\n",
    "Import only the libraries needed for loading the model, handling data, and making predictions. No unused libraries are included to ensure readability."
   ]
  },
  {
   "cell_type": "code",
   "execution_count": 1,
   "metadata": {},
   "outputs": [],
   "source": [
    "import pandas as pd\n",
    "import joblib\n",
    "import numpy as np\n"
   ]
  },
  {
   "cell_type": "markdown",
   "metadata": {},
   "source": [
    "## 2. Load the Saved Model\n",
    "\n",
    "Load the trained XGBoost model pipeline (`xgb_pipeline_model.pkl`) saved from the training notebook. The pipeline includes preprocessing steps (outlier capping, scaling, encoding) and the XGBoost classifier."
   ]
  },
  {
   "cell_type": "code",
   "execution_count": 2,
   "metadata": {},
   "outputs": [
    {
     "name": "stdout",
     "output_type": "stream",
     "text": [
      "Model loaded successfully.\n"
     ]
    }
   ],
   "source": [
    "# Load the saved model\n",
    "model = joblib.load('xgb_pipeline_model.pkl')\n",
    "print('Model loaded successfully.')"
   ]
  },
  {
   "cell_type": "markdown",
   "metadata": {},
   "source": [
    "## 3. Prepare New Data\n",
    "\n",
    "Create a small sample of new, raw data for inference. The data matches the original dataset’s structure (11 features, excluding `loan_status`). Values are realistic and unprocessed (raw format, no scaling or encoding)."
   ]
  },
  {
   "cell_type": "code",
   "execution_count": 3,
   "metadata": {},
   "outputs": [
    {
     "name": "stdout",
     "output_type": "stream",
     "text": [
      "New Data for Inference:\n"
     ]
    },
    {
     "data": {
      "text/html": [
       "<div>\n",
       "<style scoped>\n",
       "    .dataframe tbody tr th:only-of-type {\n",
       "        vertical-align: middle;\n",
       "    }\n",
       "\n",
       "    .dataframe tbody tr th {\n",
       "        vertical-align: top;\n",
       "    }\n",
       "\n",
       "    .dataframe thead th {\n",
       "        text-align: right;\n",
       "    }\n",
       "</style>\n",
       "<table border=\"1\" class=\"dataframe\">\n",
       "  <thead>\n",
       "    <tr style=\"text-align: right;\">\n",
       "      <th></th>\n",
       "      <th>no_of_dependents</th>\n",
       "      <th>education</th>\n",
       "      <th>self_employed</th>\n",
       "      <th>income_annum</th>\n",
       "      <th>loan_amount</th>\n",
       "      <th>loan_term</th>\n",
       "      <th>cibil_score</th>\n",
       "      <th>residential_assets_value</th>\n",
       "      <th>commercial_assets_value</th>\n",
       "      <th>luxury_assets_value</th>\n",
       "      <th>bank_asset_value</th>\n",
       "    </tr>\n",
       "  </thead>\n",
       "  <tbody>\n",
       "    <tr>\n",
       "      <th>0</th>\n",
       "      <td>3</td>\n",
       "      <td>Graduate</td>\n",
       "      <td>No</td>\n",
       "      <td>5000000</td>\n",
       "      <td>12000000</td>\n",
       "      <td>12</td>\n",
       "      <td>700</td>\n",
       "      <td>4000000</td>\n",
       "      <td>1000000</td>\n",
       "      <td>8000000</td>\n",
       "      <td>2000000</td>\n",
       "    </tr>\n",
       "    <tr>\n",
       "      <th>1</th>\n",
       "      <td>1</td>\n",
       "      <td>Not Graduate</td>\n",
       "      <td>Yes</td>\n",
       "      <td>2500000</td>\n",
       "      <td>4000000</td>\n",
       "      <td>8</td>\n",
       "      <td>400</td>\n",
       "      <td>1500000</td>\n",
       "      <td>0</td>\n",
       "      <td>3000000</td>\n",
       "      <td>800000</td>\n",
       "    </tr>\n",
       "    <tr>\n",
       "      <th>2</th>\n",
       "      <td>5</td>\n",
       "      <td>Graduate</td>\n",
       "      <td>Yes</td>\n",
       "      <td>9000000</td>\n",
       "      <td>25000000</td>\n",
       "      <td>20</td>\n",
       "      <td>850</td>\n",
       "      <td>12000000</td>\n",
       "      <td>4000000</td>\n",
       "      <td>20000000</td>\n",
       "      <td>6000000</td>\n",
       "    </tr>\n",
       "  </tbody>\n",
       "</table>\n",
       "</div>"
      ],
      "text/plain": [
       "   no_of_dependents     education self_employed  income_annum  loan_amount  \\\n",
       "0                 3      Graduate            No       5000000     12000000   \n",
       "1                 1  Not Graduate           Yes       2500000      4000000   \n",
       "2                 5      Graduate           Yes       9000000     25000000   \n",
       "\n",
       "   loan_term  cibil_score  residential_assets_value  commercial_assets_value  \\\n",
       "0         12          700                   4000000                  1000000   \n",
       "1          8          400                   1500000                        0   \n",
       "2         20          850                  12000000                  4000000   \n",
       "\n",
       "   luxury_assets_value  bank_asset_value  \n",
       "0              8000000           2000000  \n",
       "1              3000000            800000  \n",
       "2             20000000           6000000  "
      ]
     },
     "execution_count": 3,
     "metadata": {},
     "output_type": "execute_result"
    }
   ],
   "source": [
    "# Define new data for inference (raw values)\n",
    "new_data = pd.DataFrame({\n",
    "    'no_of_dependents': [3, 1, 5],\n",
    "    'education': ['Graduate', 'Not Graduate', 'Graduate'],\n",
    "    'self_employed': ['No', 'Yes', 'Yes'],\n",
    "    'income_annum': [5000000, 2500000, 9000000],\n",
    "    'loan_amount': [12000000, 4000000, 25000000],\n",
    "    'loan_term': [12, 8, 20],\n",
    "    'cibil_score': [700, 400, 850],\n",
    "    'residential_assets_value': [4000000, 1500000, 12000000],\n",
    "    'commercial_assets_value': [1000000, 0, 4000000],\n",
    "    'luxury_assets_value': [8000000, 3000000, 20000000],\n",
    "    'bank_asset_value': [2000000, 800000, 6000000]\n",
    "})\n",
    "\n",
    "# Display the new data\n",
    "print('New Data for Inference:')\n",
    "new_data"
   ]
  },
  {
   "cell_type": "markdown",
   "metadata": {},
   "source": [
    "## 4. Make Predictions\n",
    "\n",
    "Use the loaded model to predict loan approval status. The pipeline automatically handles preprocessing. Convert numerical predictions (0 or 1) to categorical labels (`Rejected` or `Approved`) for interpretability."
   ]
  },
  {
   "cell_type": "code",
   "execution_count": 4,
   "metadata": {},
   "outputs": [
    {
     "name": "stdout",
     "output_type": "stream",
     "text": [
      "Predictions for New Data:\n"
     ]
    },
    {
     "data": {
      "text/html": [
       "<div>\n",
       "<style scoped>\n",
       "    .dataframe tbody tr th:only-of-type {\n",
       "        vertical-align: middle;\n",
       "    }\n",
       "\n",
       "    .dataframe tbody tr th {\n",
       "        vertical-align: top;\n",
       "    }\n",
       "\n",
       "    .dataframe thead th {\n",
       "        text-align: right;\n",
       "    }\n",
       "</style>\n",
       "<table border=\"1\" class=\"dataframe\">\n",
       "  <thead>\n",
       "    <tr style=\"text-align: right;\">\n",
       "      <th></th>\n",
       "      <th>no_of_dependents</th>\n",
       "      <th>education</th>\n",
       "      <th>self_employed</th>\n",
       "      <th>income_annum</th>\n",
       "      <th>loan_amount</th>\n",
       "      <th>loan_term</th>\n",
       "      <th>cibil_score</th>\n",
       "      <th>residential_assets_value</th>\n",
       "      <th>commercial_assets_value</th>\n",
       "      <th>luxury_assets_value</th>\n",
       "      <th>bank_asset_value</th>\n",
       "      <th>predicted_loan_status</th>\n",
       "    </tr>\n",
       "  </thead>\n",
       "  <tbody>\n",
       "    <tr>\n",
       "      <th>0</th>\n",
       "      <td>3</td>\n",
       "      <td>Graduate</td>\n",
       "      <td>No</td>\n",
       "      <td>5000000</td>\n",
       "      <td>12000000</td>\n",
       "      <td>12</td>\n",
       "      <td>700</td>\n",
       "      <td>4000000</td>\n",
       "      <td>1000000</td>\n",
       "      <td>8000000</td>\n",
       "      <td>2000000</td>\n",
       "      <td>Approved</td>\n",
       "    </tr>\n",
       "    <tr>\n",
       "      <th>1</th>\n",
       "      <td>1</td>\n",
       "      <td>Not Graduate</td>\n",
       "      <td>Yes</td>\n",
       "      <td>2500000</td>\n",
       "      <td>4000000</td>\n",
       "      <td>8</td>\n",
       "      <td>400</td>\n",
       "      <td>1500000</td>\n",
       "      <td>0</td>\n",
       "      <td>3000000</td>\n",
       "      <td>800000</td>\n",
       "      <td>Rejected</td>\n",
       "    </tr>\n",
       "    <tr>\n",
       "      <th>2</th>\n",
       "      <td>5</td>\n",
       "      <td>Graduate</td>\n",
       "      <td>Yes</td>\n",
       "      <td>9000000</td>\n",
       "      <td>25000000</td>\n",
       "      <td>20</td>\n",
       "      <td>850</td>\n",
       "      <td>12000000</td>\n",
       "      <td>4000000</td>\n",
       "      <td>20000000</td>\n",
       "      <td>6000000</td>\n",
       "      <td>Approved</td>\n",
       "    </tr>\n",
       "  </tbody>\n",
       "</table>\n",
       "</div>"
      ],
      "text/plain": [
       "   no_of_dependents     education self_employed  income_annum  loan_amount  \\\n",
       "0                 3      Graduate            No       5000000     12000000   \n",
       "1                 1  Not Graduate           Yes       2500000      4000000   \n",
       "2                 5      Graduate           Yes       9000000     25000000   \n",
       "\n",
       "   loan_term  cibil_score  residential_assets_value  commercial_assets_value  \\\n",
       "0         12          700                   4000000                  1000000   \n",
       "1          8          400                   1500000                        0   \n",
       "2         20          850                  12000000                  4000000   \n",
       "\n",
       "   luxury_assets_value  bank_asset_value predicted_loan_status  \n",
       "0              8000000           2000000              Approved  \n",
       "1              3000000            800000              Rejected  \n",
       "2             20000000           6000000              Approved  "
      ]
     },
     "execution_count": 4,
     "metadata": {},
     "output_type": "execute_result"
    }
   ],
   "source": [
    "# Make predictions\n",
    "predictions = model.predict(new_data)\n",
    "\n",
    "# Convert numerical predictions to categorical labels (0 = Rejected, 1 = Approved)\n",
    "label_map = {0: 'Rejected', 1: 'Approved'}\n",
    "predictions_categorical = [label_map[pred] for pred in predictions]\n",
    "\n",
    "# Add predictions to the new data\n",
    "new_data['predicted_loan_status'] = predictions_categorical\n",
    "\n",
    "# Display predictions\n",
    "print('Predictions for New Data:')\n",
    "new_data"
   ]
  },
  {
   "cell_type": "markdown",
   "metadata": {},
   "source": [
    "## 5. Interpretation of Results\n",
    "\n",
    "The predictions show whether each applicant's loan is likely to be Approved or Rejected based on their features:\n",
    "- High CIBIL Score Applicants: Applicants with CIBIL scores above 700 (e.g., 700 or 850) and substantial assets are likely approved, indicating lower credit risk.\n",
    "- Low CIBIL Score Applicants: Applicants with lower CIBIL scores (e.g., 400) or high loan amounts relative to income may be rejected due to higher risk.\n",
    "\n",
    "Business Context: For a bank like 'GrowEasy,' these predictions streamline loan approval decisions. Approved applicants can proceed with loan processing, while rejected applicants can receive feedback (e.g., improve credit score) to enhance future eligibility. The model’s high F1-score (0.9841 on test data) ensures reliable predictions, balancing approval of eligible applicants and rejection of risky ones.\n",
    "\n",
    "Insights:\n",
    "- The model heavily weighs cibil_score, consistent with EDA findings where higher scores correlated with approvals.\n",
    "- The pipeline’s preprocessing ensures raw input data is handled consistently, making it suitable for real-world use.\n",
    "\n",
    "Next Steps: Integrate the model into a web app for real-time predictions, allowing applicants to input details and receive instant approval decisions."
   ]
  }
 ],
 "metadata": {
  "kernelspec": {
   "display_name": "base",
   "language": "python",
   "name": "python3"
  },
  "language_info": {
   "codemirror_mode": {
    "name": "ipython",
    "version": 3
   },
   "file_extension": ".py",
   "mimetype": "text/x-python",
   "name": "python",
   "nbconvert_exporter": "python",
   "pygments_lexer": "ipython3",
   "version": "3.11.7"
  }
 },
 "nbformat": 4,
 "nbformat_minor": 5
}
