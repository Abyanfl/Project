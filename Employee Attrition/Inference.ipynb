{
 "cells": [
  {
   "cell_type": "code",
   "execution_count": null,
   "id": "b9ecdca5",
   "metadata": {},
   "outputs": [],
   "source": [
    "#This notebook performs inference using the trained Random Forest model on new, unseen data. The data is in its raw format, as it was before preprocessing (not scaled or encoded). The model was saved in the training notebook (`P1M2_abyan.ipynb`).\n",
    "\n",
    "import pandas as pd\n",
    "import joblib"
   ]
  },
  {
   "cell_type": "code",
   "execution_count": 3,
   "id": "61efbf10",
   "metadata": {},
   "outputs": [
    {
     "name": "stdout",
     "output_type": "stream",
     "text": [
      "Random Forest model loaded successfully\n"
     ]
    }
   ],
   "source": [
    "# Load the trained Random Forest model\n",
    "try:\n",
    "    best_model = joblib.load('best_model_rf.pkl')\n",
    "    print(\"Random Forest model loaded successfully\")\n",
    "except FileNotFoundError:\n",
    "    print(\"Error: 'best_model_rf.pkl' not found. Ensure the model was saved in the training notebook.\")\n",
    "    raise\n",
    "except Exception as e:\n",
    "    print(f\"Error loading model: {e}\")\n",
    "    raise"
   ]
  },
  {
   "cell_type": "code",
   "execution_count": 4,
   "id": "c046cfa1",
   "metadata": {},
   "outputs": [
    {
     "name": "stdout",
     "output_type": "stream",
     "text": [
      "New Data for Inference:\n",
      "   Age     BusinessTravel  DailyRate              Department  \\\n",
      "0   35      Travel_Rarely        800                   Sales   \n",
      "1   28  Travel_Frequently        600  Research & Development   \n",
      "2   45         Non-Travel       1200         Human Resources   \n",
      "\n",
      "   DistanceFromHome  Education   EducationField  EmployeeCount  \\\n",
      "0                 5          3        Marketing              1   \n",
      "1                20          2    Life Sciences              1   \n",
      "2                 2          4  Human Resources              1   \n",
      "\n",
      "   EmployeeNumber  EnvironmentSatisfaction  ... RelationshipSatisfaction  \\\n",
      "0            2001                        3  ...                        3   \n",
      "1            2002                        2  ...                        2   \n",
      "2            2003                        4  ...                        4   \n",
      "\n",
      "   StandardHours  StockOptionLevel  TotalWorkingYears TrainingTimesLastYear  \\\n",
      "0             80                 1                 10                     3   \n",
      "1             80                 0                  5                     2   \n",
      "2             80                 2                 20                     3   \n",
      "\n",
      "   WorkLifeBalance YearsAtCompany  YearsInCurrentRole  \\\n",
      "0                3              5                   3   \n",
      "1                2              3                   2   \n",
      "2                3             15                  10   \n",
      "\n",
      "   YearsSinceLastPromotion  YearsWithCurrManager  \n",
      "0                        1                     3  \n",
      "1                        0                     2  \n",
      "2                        5                     8  \n",
      "\n",
      "[3 rows x 34 columns]\n"
     ]
    }
   ],
   "source": [
    "# Define new data (raw format, not scaled or slagencoded)\n",
    "new_data = pd.DataFrame({\n",
    "    'Age': [35, 28, 45],\n",
    "    'BusinessTravel': ['Travel_Rarely', 'Travel_Frequently', 'Non-Travel'],\n",
    "    'DailyRate': [800, 600, 1200],\n",
    "    'Department': ['Sales', 'Research & Development', 'Human Resources'],\n",
    "    'DistanceFromHome': [5, 20, 2],\n",
    "    'Education': [3, 2, 4],\n",
    "    'EducationField': ['Marketing', 'Life Sciences', 'Human Resources'],\n",
    "    'EmployeeCount': [1, 1, 1],\n",
    "    'EmployeeNumber': [2001, 2002, 2003],\n",
    "    'EnvironmentSatisfaction': [3, 2, 4],\n",
    "    'Gender': ['Male', 'Female', 'Male'],\n",
    "    'HourlyRate': [70, 50, 90],\n",
    "    'JobInvolvement': [3, 2, 3],\n",
    "    'JobLevel': [2, 1, 3],\n",
    "    'JobRole': ['Sales Executive', 'Research Scientist', 'Manager'],\n",
    "    'JobSatisfaction': [4, 3, 4],\n",
    "    'MaritalStatus': ['Married', 'Single', 'Divorced'],\n",
    "    'MonthlyIncome': [5000, 3000, 10000],\n",
    "    'MonthlyRate': [15000, 12000, 20000],\n",
    "    'NumCompaniesWorked': [2, 1, 5],\n",
    "    'Over18': ['Y', 'Y', 'Y'],\n",
    "    'OverTime': ['No', 'Yes', 'No'],\n",
    "    'PercentSalaryHike': [15, 12, 20],\n",
    "    'PerformanceRating': [3, 3, 4],\n",
    "    'RelationshipSatisfaction': [3, 2, 4],\n",
    "    'StandardHours': [80, 80, 80],\n",
    "    'StockOptionLevel': [1, 0, 2],\n",
    "    'TotalWorkingYears': [10, 5, 20],\n",
    "    'TrainingTimesLastYear': [3, 2, 3],\n",
    "    'WorkLifeBalance': [3, 2, 3],\n",
    "    'YearsAtCompany': [5, 3, 15],\n",
    "    'YearsInCurrentRole': [3, 2, 10],\n",
    "    'YearsSinceLastPromotion': [1, 0, 5],\n",
    "    'YearsWithCurrManager': [3, 2, 8]\n",
    "})\n",
    "\n",
    "# Display the new data\n",
    "print(\"New Data for Inference:\")\n",
    "print(new_data)"
   ]
  },
  {
   "cell_type": "code",
   "execution_count": 5,
   "id": "9f0a81e2",
   "metadata": {},
   "outputs": [
    {
     "name": "stdout",
     "output_type": "stream",
     "text": [
      "\n",
      "Inference Results:\n",
      "   EmployeeNumber Predicted_Attrition\n",
      "0            2001                  No\n",
      "1            2002                  No\n",
      "2            2003                  No\n"
     ]
    }
   ],
   "source": [
    "# Predict attrition for the new data\n",
    "try:\n",
    "    predictions = best_model.predict(new_data)\n",
    "except Exception as e:\n",
    "    print(f\"Error during prediction: {e}\")\n",
    "    raise\n",
    "\n",
    "# Map predictions back to human-readable labels\n",
    "# Assuming the model was trained with 0 = 'No', 1 = 'Yes'\n",
    "predictions_labels = ['Yes' if pred == 1 else 'No' for pred in predictions]\n",
    "\n",
    "# Display results\n",
    "results = pd.DataFrame({\n",
    "    'EmployeeNumber': new_data['EmployeeNumber'],\n",
    "    'Predicted_Attrition': predictions_labels\n",
    "})\n",
    "print(\"\\nInference Results:\")\n",
    "print(results)"
   ]
  }
 ],
 "metadata": {
  "kernelspec": {
   "display_name": "base",
   "language": "python",
   "name": "python3"
  },
  "language_info": {
   "codemirror_mode": {
    "name": "ipython",
    "version": 3
   },
   "file_extension": ".py",
   "mimetype": "text/x-python",
   "name": "python",
   "nbconvert_exporter": "python",
   "pygments_lexer": "ipython3",
   "version": "3.12.9"
  }
 },
 "nbformat": 4,
 "nbformat_minor": 5
}
